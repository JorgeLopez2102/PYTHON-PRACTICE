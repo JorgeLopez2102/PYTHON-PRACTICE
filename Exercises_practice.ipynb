{
 "cells": [
  {
   "cell_type": "markdown",
   "id": "a0a18683",
   "metadata": {},
   "source": [
    "# Simple data types"
   ]
  },
  {
   "cell_type": "markdown",
   "id": "a76b7696",
   "metadata": {},
   "source": [
    "## exercise 1 "
   ]
  },
  {
   "cell_type": "code",
   "execution_count": 1,
   "id": "7d74621f",
   "metadata": {},
   "outputs": [
    {
     "name": "stdout",
     "output_type": "stream",
     "text": [
      "Hello World!\n"
     ]
    }
   ],
   "source": [
    "#Write a program that displays the Hello World! string on the screen.\n",
    "print('Hello World!')"
   ]
  },
  {
   "cell_type": "markdown",
   "id": "e1c56e91",
   "metadata": {},
   "source": [
    "## exercise 2"
   ]
  },
  {
   "cell_type": "code",
   "execution_count": 2,
   "id": "4f830e3c",
   "metadata": {},
   "outputs": [
    {
     "name": "stdout",
     "output_type": "stream",
     "text": [
      "Hello World!\n"
     ]
    }
   ],
   "source": [
    "#Write a program that stores the string Hello World! in a variable and then displays the contents of the variable on the screen.\n",
    "Variable='Hello World!'\n",
    "print(Variable)"
   ]
  },
  {
   "cell_type": "markdown",
   "id": "2e64ab27",
   "metadata": {},
   "source": [
    "## exercise 3"
   ]
  },
  {
   "cell_type": "code",
   "execution_count": 5,
   "id": "c6865b48",
   "metadata": {},
   "outputs": [
    {
     "name": "stdout",
     "output_type": "stream",
     "text": [
      "introduce name: Andres\n",
      "Hello Andres!\n"
     ]
    }
   ],
   "source": [
    "#Write a program that prompts for the user's name on the console and after the user enters it displays the string Hello <name>! \n",
    "#on the screen, where <name> is the name the user entered.\n",
    "Name=input('introduce name: ')\n",
    "print('Hello'+' '+ Name + '!')"
   ]
  },
  {
   "cell_type": "markdown",
   "id": "452ee44b",
   "metadata": {},
   "source": [
    "## exercise 4"
   ]
  },
  {
   "cell_type": "code",
   "execution_count": 20,
   "id": "46f3bde4",
   "metadata": {},
   "outputs": [
    {
     "name": "stdout",
     "output_type": "stream",
     "text": [
      "The result is 0.25\n"
     ]
    }
   ],
   "source": [
    "#Write a program that displays on the screen the result of the following arithmetic operation (3+2/2*5)^2\n",
    "result=(((3+2)/(2*5))**2)\n",
    "print('The result is '+ str(result))"
   ]
  },
  {
   "cell_type": "markdown",
   "id": "74bdad25",
   "metadata": {},
   "source": [
    "## exercise 5"
   ]
  },
  {
   "cell_type": "code",
   "execution_count": null,
   "id": "4677a8ac",
   "metadata": {},
   "outputs": [],
   "source": []
  }
 ],
 "metadata": {
  "kernelspec": {
   "display_name": "Python 3 (ipykernel)",
   "language": "python",
   "name": "python3"
  },
  "language_info": {
   "codemirror_mode": {
    "name": "ipython",
    "version": 3
   },
   "file_extension": ".py",
   "mimetype": "text/x-python",
   "name": "python",
   "nbconvert_exporter": "python",
   "pygments_lexer": "ipython3",
   "version": "3.9.7"
  }
 },
 "nbformat": 4,
 "nbformat_minor": 5
}
