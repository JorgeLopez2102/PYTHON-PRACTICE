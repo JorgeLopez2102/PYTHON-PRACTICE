{
 "cells": [
  {
   "cell_type": "markdown",
   "id": "476f74e8",
   "metadata": {},
   "source": [
    "# Simple data types"
   ]
  },
  {
   "cell_type": "markdown",
   "id": "94fddb07",
   "metadata": {},
   "source": [
    "## exercise 1 "
   ]
  },
  {
   "cell_type": "code",
   "execution_count": 22,
   "id": "30619788",
   "metadata": {},
   "outputs": [
    {
     "name": "stdout",
     "output_type": "stream",
     "text": [
      "Hello World!\n"
     ]
    }
   ],
   "source": [
    "#Write a program that displays the Hello World! string on the screen.\n",
    "\n",
    "print('Hello World!')"
   ]
  },
  {
   "cell_type": "markdown",
   "id": "39ba2846",
   "metadata": {},
   "source": [
    "## exercise 2"
   ]
  },
  {
   "cell_type": "code",
   "execution_count": 23,
   "id": "9cf1f071",
   "metadata": {},
   "outputs": [
    {
     "name": "stdout",
     "output_type": "stream",
     "text": [
      "Hello World!\n"
     ]
    }
   ],
   "source": [
    "#Write a program that stores the string Hello World! in a variable and then displays the contents of the variable on the screen.\n",
    "\n",
    "Variable = 'Hello World!'\n",
    "print(Variable)"
   ]
  },
  {
   "cell_type": "markdown",
   "id": "b82a56ea",
   "metadata": {},
   "source": [
    "## exercise 3"
   ]
  },
  {
   "cell_type": "code",
   "execution_count": 24,
   "id": "e34c9b73",
   "metadata": {},
   "outputs": [
    {
     "name": "stdout",
     "output_type": "stream",
     "text": [
      "introduce name: Andres\n",
      "Hello Andres!\n"
     ]
    }
   ],
   "source": [
    "#Write a program that prompts for the user's name on the console and after the user enters it displays the string Hello <name>! \n",
    "#on the screen, where <name> is the name the user entered.\n",
    "\n",
    "Name = input('introduce name: ')\n",
    "print('Hello'+' '+ Name + '!')"
   ]
  },
  {
   "cell_type": "markdown",
   "id": "129f2a84",
   "metadata": {},
   "source": [
    "## exercise 4"
   ]
  },
  {
   "cell_type": "code",
   "execution_count": 27,
   "id": "11c866d3",
   "metadata": {},
   "outputs": [
    {
     "name": "stdout",
     "output_type": "stream",
     "text": [
      "The result is 0.25\n"
     ]
    }
   ],
   "source": [
    "#Write a program that displays on the screen the result of the following arithmetic operation (3+2/2*5)^2\n",
    "\n",
    "result = (((3+2)/(2*5))**2)\n",
    "print('The result is '+ str(result))"
   ]
  },
  {
   "cell_type": "markdown",
   "id": "9b1c7d4a",
   "metadata": {},
   "source": [
    "## exercise 5"
   ]
  },
  {
   "cell_type": "code",
   "execution_count": 30,
   "id": "2339130c",
   "metadata": {},
   "outputs": [
    {
     "name": "stdout",
     "output_type": "stream",
     "text": [
      "Worked Hours: 48\n",
      "Cost per hour: 12\n",
      "Your corresponding pay is: 576.0\n"
     ]
    }
   ],
   "source": [
    "#Write a program that asks the user for the number of hours worked and the cost per hour. \n",
    "#It should then display on the screen the corresponding pay.\n",
    "\n",
    "Worked_Hours  = float(input('Worked Hours: '))\n",
    "Cost_Per_Hour = float(input('Cost per hour: '))\n",
    "Pay           = float(Worked_Hours*Cost_Per_Hour)\n",
    "print('Your corresponding pay is: '+ str(Pay))\n"
   ]
  },
  {
   "cell_type": "markdown",
   "id": "f081067f",
   "metadata": {},
   "source": [
    "## exercise 6"
   ]
  },
  {
   "cell_type": "code",
   "execution_count": 41,
   "id": "ab4025a2",
   "metadata": {},
   "outputs": [
    {
     "name": "stdout",
     "output_type": "stream",
     "text": [
      "Choose a positive number: 5\n",
      "the sum of all integers from 1 to 5 is 15.0\n"
     ]
    }
   ],
   "source": [
    "#Write a program that reads a positive integer, n , \n",
    "#entered by the user and then displays on the screen the sum of all integers from 1 to n. \n",
    "#The sum of the first positive integers can be calculated as follows:n(n+1)/2\n",
    "\n",
    "N    = int(input('Choose a positive number: '))\n",
    "suma = N*(N+1)/2\n",
    "print('the sum of all integers from 1 to '+ str(N) +' is ' + str(suma))"
   ]
  },
  {
   "cell_type": "markdown",
   "id": "1469fe96",
   "metadata": {},
   "source": [
    "## exercise 7 "
   ]
  },
  {
   "cell_type": "code",
   "execution_count": 57,
   "id": "579d6a00",
   "metadata": {},
   "outputs": [
    {
     "name": "stdout",
     "output_type": "stream",
     "text": [
      "Introduce your Weight in (kg): 79\n",
      "Introduce your Height in (meters): 1.66\n",
      "Your IMC is: 28.67 Indicate Overweight\n"
     ]
    }
   ],
   "source": [
    "#Write a program that asks the user for his weight (in kg) and height (in meters), \n",
    "#calculates the body mass index and stores it in a variable, \n",
    "#and displays the sentence Your body mass index is <imc> where <imc> \n",
    "#is the calculated body mass index rounded to two decimal places.\n",
    "\n",
    "Weight = float(input('Introduce your Weight in (kg): '))\n",
    "Height = float(input('Introduce your Height in (meters): '))\n",
    "IMC = round(Weight/(Height)**2,2)\n",
    "if IMC <= 18.5:\n",
    "    print('Your IMC is: '+str(IMC)+' Indicate '+'Low weight')\n",
    "    \n",
    "elif IMC <= 24.9:\n",
    "     print('Your IMC is: '+str(IMC)+' Indicate '+'Normal')\n",
    "        \n",
    "elif IMC <= 29.9:\n",
    "     print('Your IMC is: '+str(IMC)+' Indicate '+'Overweight')\n",
    "        \n",
    "elif IMC >= 30.0:\n",
    "     print('Your IMC is: '+str(IMC)+' Indicate '+'Obesity')\n",
    "            "
   ]
  },
  {
   "cell_type": "markdown",
   "id": "1129b0e3",
   "metadata": {},
   "source": [
    "## exercise 8 "
   ]
  },
  {
   "cell_type": "code",
   "execution_count": 69,
   "id": "c842ad8f",
   "metadata": {},
   "outputs": [
    {
     "name": "stdout",
     "output_type": "stream",
     "text": [
      "type a number: 4\n",
      "type a number: 2\n",
      "4 divide 2 quotient is 2 remainder is 0\n"
     ]
    }
   ],
   "source": [
    "#Write a program that prompts the user for two integers and displays <n> by <m> gives a quotient <c> and remainder <r> \n",
    "#where <n> and <m> are the numbers entered by the user, and <c> and <r> \n",
    "#are the quotient and remainder of the integer division respectively.\n",
    "\n",
    "n = int(input('type a number: '))\n",
    "m = int(input('type a number: '))\n",
    "print(str(n) + ' divide ' +  str(m) + ' quotient is ' + str(n // m) + ' remainder is '+ str(n % m))"
   ]
  },
  {
   "cell_type": "markdown",
   "id": "7eba491f",
   "metadata": {},
   "source": [
    "## exercise 9"
   ]
  },
  {
   "cell_type": "code",
   "execution_count": null,
   "id": "cab74cb7",
   "metadata": {},
   "outputs": [],
   "source": [
    "#Write a program that asks the user for an amount to invest, the annual interest and the number of years, \n",
    "#and displays the capital obtained in the investment.\n",
    "\n"
   ]
  }
 ],
 "metadata": {
  "kernelspec": {
   "display_name": "Python 3 (ipykernel)",
   "language": "python",
   "name": "python3"
  },
  "language_info": {
   "codemirror_mode": {
    "name": "ipython",
    "version": 3
   },
   "file_extension": ".py",
   "mimetype": "text/x-python",
   "name": "python",
   "nbconvert_exporter": "python",
   "pygments_lexer": "ipython3",
   "version": "3.9.7"
  }
 },
 "nbformat": 4,
 "nbformat_minor": 5
}
