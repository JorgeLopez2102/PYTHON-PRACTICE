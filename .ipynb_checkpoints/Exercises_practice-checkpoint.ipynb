{
 "cells": [
  {
   "cell_type": "markdown",
   "id": "78ec84d2",
   "metadata": {},
   "source": [
    "# Simple data types"
   ]
  },
  {
   "cell_type": "markdown",
   "id": "b18e4a60",
   "metadata": {},
   "source": [
    "## exercise 1 "
   ]
  },
  {
   "cell_type": "code",
   "execution_count": 22,
   "id": "a56f0c1f",
   "metadata": {},
   "outputs": [
    {
     "name": "stdout",
     "output_type": "stream",
     "text": [
      "Hello World!\n"
     ]
    }
   ],
   "source": [
    "#Write a program that displays the Hello World! string on the screen.\n",
    "\n",
    "print('Hello World!')"
   ]
  },
  {
   "cell_type": "markdown",
   "id": "8b1597ab",
   "metadata": {},
   "source": [
    "## exercise 2"
   ]
  },
  {
   "cell_type": "code",
   "execution_count": 23,
   "id": "4ce98961",
   "metadata": {},
   "outputs": [
    {
     "name": "stdout",
     "output_type": "stream",
     "text": [
      "Hello World!\n"
     ]
    }
   ],
   "source": [
    "#Write a program that stores the string Hello World! in a variable and then displays the contents of the variable on the screen.\n",
    "\n",
    "Variable = 'Hello World!'\n",
    "print(Variable)"
   ]
  },
  {
   "cell_type": "markdown",
   "id": "b8d6730b",
   "metadata": {},
   "source": [
    "## exercise 3"
   ]
  },
  {
   "cell_type": "code",
   "execution_count": 24,
   "id": "1d30cba9",
   "metadata": {},
   "outputs": [
    {
     "name": "stdout",
     "output_type": "stream",
     "text": [
      "introduce name: Andres\n",
      "Hello Andres!\n"
     ]
    }
   ],
   "source": [
    "#Write a program that prompts for the user's name on the console and after the user enters it displays the string Hello <name>! \n",
    "#on the screen, where <name> is the name the user entered.\n",
    "\n",
    "Name = input('introduce name: ')\n",
    "print('Hello'+' '+ Name + '!')"
   ]
  },
  {
   "cell_type": "markdown",
   "id": "91345092",
   "metadata": {},
   "source": [
    "## exercise 4"
   ]
  },
  {
   "cell_type": "code",
   "execution_count": 27,
   "id": "b99e56c9",
   "metadata": {},
   "outputs": [
    {
     "name": "stdout",
     "output_type": "stream",
     "text": [
      "The result is 0.25\n"
     ]
    }
   ],
   "source": [
    "#Write a program that displays on the screen the result of the following arithmetic operation (3+2/2*5)^2\n",
    "\n",
    "result = (((3+2)/(2*5))**2)\n",
    "print('The result is '+ str(result))"
   ]
  },
  {
   "cell_type": "markdown",
   "id": "8fbb8426",
   "metadata": {},
   "source": [
    "## exercise 5"
   ]
  },
  {
   "cell_type": "code",
   "execution_count": 30,
   "id": "b9c59d3d",
   "metadata": {},
   "outputs": [
    {
     "name": "stdout",
     "output_type": "stream",
     "text": [
      "Worked Hours: 48\n",
      "Cost per hour: 12\n",
      "Your corresponding pay is: 576.0\n"
     ]
    }
   ],
   "source": [
    "#Write a program that asks the user for the number of hours worked and the cost per hour. \n",
    "#It should then display on the screen the corresponding pay.\n",
    "\n",
    "Worked_Hours  = float(input('Worked Hours: '))\n",
    "Cost_Per_Hour = float(input('Cost per hour: '))\n",
    "Pay           = float(Worked_Hours*Cost_Per_Hour)\n",
    "print('Your corresponding pay is: '+ str(Pay))\n"
   ]
  },
  {
   "cell_type": "markdown",
   "id": "36e1c570",
   "metadata": {},
   "source": [
    "## exercise 6"
   ]
  },
  {
   "cell_type": "code",
   "execution_count": 41,
   "id": "0c329228",
   "metadata": {},
   "outputs": [
    {
     "name": "stdout",
     "output_type": "stream",
     "text": [
      "Choose a positive number: 5\n",
      "the sum of all integers from 1 to 5 is 15.0\n"
     ]
    }
   ],
   "source": [
    "#Write a program that reads a positive integer, n , \n",
    "#entered by the user and then displays on the screen the sum of all integers from 1 to n. \n",
    "#The sum of the first positive integers can be calculated as follows:n(n+1)/2\n",
    "\n",
    "N    = int(input('Choose a positive number: '))\n",
    "suma = N*(N+1)/2\n",
    "print('the sum of all integers from 1 to '+ str(N) +' is ' + str(suma))"
   ]
  },
  {
   "cell_type": "markdown",
   "id": "6937fb2d",
   "metadata": {},
   "source": [
    "## exercise 7 "
   ]
  },
  {
   "cell_type": "code",
   "execution_count": 57,
   "id": "b9121e37",
   "metadata": {},
   "outputs": [
    {
     "name": "stdout",
     "output_type": "stream",
     "text": [
      "Introduce your Weight in (kg): 79\n",
      "Introduce your Height in (meters): 1.66\n",
      "Your IMC is: 28.67 Indicate Overweight\n"
     ]
    }
   ],
   "source": [
    "#Write a program that asks the user for his weight (in kg) and height (in meters), \n",
    "#calculates the body mass index and stores it in a variable, \n",
    "#and displays the sentence Your body mass index is <imc> where <imc> \n",
    "#is the calculated body mass index rounded to two decimal places.\n",
    "\n",
    "Weight = float(input('Introduce your Weight in (kg): '))\n",
    "Height = float(input('Introduce your Height in (meters): '))\n",
    "IMC = round(Weight/(Height)**2,2)\n",
    "if IMC <= 18.5:\n",
    "    print('Your IMC is: '+str(IMC)+' Indicate '+'Low weight')\n",
    "    \n",
    "elif IMC <= 24.9:\n",
    "     print('Your IMC is: '+str(IMC)+' Indicate '+'Normal')\n",
    "        \n",
    "elif IMC <= 29.9:\n",
    "     print('Your IMC is: '+str(IMC)+' Indicate '+'Overweight')\n",
    "        \n",
    "elif IMC >= 30.0:\n",
    "     print('Your IMC is: '+str(IMC)+' Indicate '+'Obesity')\n",
    "            "
   ]
  },
  {
   "cell_type": "markdown",
   "id": "d6414f95",
   "metadata": {},
   "source": [
    "## exercise 8 "
   ]
  },
  {
   "cell_type": "code",
   "execution_count": 69,
   "id": "9a2e07b7",
   "metadata": {},
   "outputs": [
    {
     "name": "stdout",
     "output_type": "stream",
     "text": [
      "type a number: 4\n",
      "type a number: 2\n",
      "4 divide 2 quotient is 2 remainder is 0\n"
     ]
    }
   ],
   "source": [
    "#Write a program that prompts the user for two integers and displays <n> by <m> gives a quotient <c> and remainder <r> \n",
    "#where <n> and <m> are the numbers entered by the user, and <c> and <r> \n",
    "#are the quotient and remainder of the integer division respectively.\n",
    "\n",
    "n = int(input('type a number: '))\n",
    "m = int(input('type a number: '))\n",
    "print(str(n) + ' divide ' +  str(m) + ' quotient is ' + str(n // m) + ' remainder is '+ str(n % m))"
   ]
  },
  {
   "cell_type": "markdown",
   "id": "83780931",
   "metadata": {},
   "source": [
    "## exercise 9"
   ]
  },
  {
   "cell_type": "code",
   "execution_count": 71,
   "id": "03c6e27c",
   "metadata": {},
   "outputs": [
    {
     "name": "stdout",
     "output_type": "stream",
     "text": [
      "¿amount? 80\n",
      "¿Interest? .25\n",
      "¿years?2\n",
      "final invest: 80.4\n"
     ]
    }
   ],
   "source": [
    "#Write a program that asks the user for an amount to invest, the annual interest and the number of years, \n",
    "#and displays the capital obtained in the investment.\n",
    "\n",
    "cantity = float(input(\"¿amount?:  \"))\n",
    "interest = float(input(\"¿Interest?:  \"))\n",
    "years = int(input(\"¿years?: \"))\n",
    "print(\"final invest: \" + str(round(cantity * (interest / 100 + 1) ** years, 2)))"
   ]
  },
  {
   "cell_type": "markdown",
   "id": "a214d20e",
   "metadata": {},
   "source": [
    "## exercise 10 "
   ]
  },
  {
   "cell_type": "code",
   "execution_count": 75,
   "id": "8f76b8f5",
   "metadata": {},
   "outputs": [
    {
     "name": "stdout",
     "output_type": "stream",
     "text": [
      "number of clowns:  50\n",
      "number of Dolls:  30\n",
      "weight of the package to be shipped is: 7850.0 g\n"
     ]
    }
   ],
   "source": [
    "#Each clown weighs 112 g and each doll weighs 75 g. Write a program that reads the number of clowns and dolls sold\n",
    "#in the last order and calculates the total weight of the package to be shipped.\n",
    "\n",
    "Clowns       = float(input(\"number of clowns:  \"))\n",
    "Dolls        = float(input(\"number of Dolls:  \"))\n",
    "Weight_Total = Clowns*112 + Dolls*75\n",
    "print('weight of the package to be shipped is: '+ str(Weight_Total) + ' g')"
   ]
  },
  {
   "cell_type": "markdown",
   "id": "61fd4d88",
   "metadata": {},
   "source": [
    "## exercise 11 "
   ]
  },
  {
   "cell_type": "code",
   "execution_count": 77,
   "id": "10b4c872",
   "metadata": {},
   "outputs": [
    {
     "name": "stdout",
     "output_type": "stream",
     "text": [
      "inicial invest: 5000\n",
      "Balance of the first year:5200.0\n",
      "Balance of the second year:5408.0\n",
      "Balance of third year:5624.32\n"
     ]
    }
   ],
   "source": [
    "#Write a program that starts by reading the amount of money deposited in the savings account, \n",
    "#entered by the user. Then the program should calculate and display the amount of savings after the first, \n",
    "#second and third years. Round each amount to two decimal places.\n",
    "\n",
    "invest = float(input(\"inicial invest: \"))\n",
    "interest = 0.04\n",
    "balance1 = invest * (1 + interest)\n",
    "print(\"Balance of the first year:\" + str(round(balance1, 2)))\n",
    "balance2 = balance1 * (1 + interest)\n",
    "print(\"Balance of the second year:\" + str(round(balance2, 2)))\n",
    "balance3 = balance2 * (1 + interest)\n",
    "print(\"Balance of third year:\" + str(round(balance3, 2)))"
   ]
  },
  {
   "cell_type": "markdown",
   "id": "e8b537ea",
   "metadata": {},
   "source": [
    "## exercise 12"
   ]
  },
  {
   "cell_type": "code",
   "execution_count": 80,
   "id": "97d60228",
   "metadata": {},
   "outputs": [
    {
     "name": "stdout",
     "output_type": "stream",
     "text": [
      "Number of bars sold: 30\n",
      "price bread fresh is 104.7 price bread not fresh is 62.82\n"
     ]
    }
   ],
   "source": [
    "#Write a program that starts by reading the number of loaves sold that are not fresh. \n",
    "#Then the program should display the usual price of a loaf of bread, \n",
    "#the discount for not being fresh and the total final cost.\n",
    "number_of_bars = int(input('Number of bars sold: '))\n",
    "bread_bar = 3.49\n",
    "bread_bar_notfresh = bread_bar*0.6\n",
    "price_notfresh = round(number_of_bars*bread_bar_notfresh,2)\n",
    "price_bread_bar = round(number_of_bars*bread_bar,2)\n",
    "print('price bread fresh is ' + str(price_bread_bar), 'price bread not fresh is ' + str(price_notfresh))"
   ]
  }
 ],
 "metadata": {
  "kernelspec": {
   "display_name": "Python 3 (ipykernel)",
   "language": "python",
   "name": "python3"
  },
  "language_info": {
   "codemirror_mode": {
    "name": "ipython",
    "version": 3
   },
   "file_extension": ".py",
   "mimetype": "text/x-python",
   "name": "python",
   "nbconvert_exporter": "python",
   "pygments_lexer": "ipython3",
   "version": "3.9.7"
  }
 },
 "nbformat": 4,
 "nbformat_minor": 5
}
