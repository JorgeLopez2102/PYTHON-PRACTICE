{
 "cells": [
  {
   "cell_type": "markdown",
   "id": "a2670910",
   "metadata": {},
   "source": [
    "# Simple data types"
   ]
  },
  {
   "cell_type": "markdown",
   "id": "91eb98f6",
   "metadata": {},
   "source": [
    "## exercise 1 "
   ]
  },
  {
   "cell_type": "code",
   "execution_count": 1,
   "id": "1e022e14",
   "metadata": {},
   "outputs": [
    {
     "name": "stdout",
     "output_type": "stream",
     "text": [
      "Hello World!\n"
     ]
    }
   ],
   "source": [
    "#Write a program that displays the Hello World! string on the screen.\n",
    "print('Hello World!')"
   ]
  },
  {
   "cell_type": "markdown",
   "id": "f1185c5f",
   "metadata": {},
   "source": [
    "## exercise 2"
   ]
  },
  {
   "cell_type": "code",
   "execution_count": 2,
   "id": "9d020350",
   "metadata": {},
   "outputs": [
    {
     "name": "stdout",
     "output_type": "stream",
     "text": [
      "Hello World!\n"
     ]
    }
   ],
   "source": [
    "#Write a program that stores the string Hello World! in a variable and then displays the contents of the variable on the screen.\n",
    "Variable='Hello World!'\n",
    "print(Variable)"
   ]
  },
  {
   "cell_type": "markdown",
   "id": "e1e18878",
   "metadata": {},
   "source": [
    "## exercise 3"
   ]
  },
  {
   "cell_type": "code",
   "execution_count": 5,
   "id": "bf8ed97c",
   "metadata": {},
   "outputs": [
    {
     "name": "stdout",
     "output_type": "stream",
     "text": [
      "introduce name: Andres\n",
      "Hello Andres!\n"
     ]
    }
   ],
   "source": [
    "#Write a program that prompts for the user's name on the console and after the user enters it displays the string Hello <name>! \n",
    "#on the screen, where <name> is the name the user entered.\n",
    "Name=input('introduce name: ')\n",
    "print('Hello'+' '+ Name + '!')"
   ]
  },
  {
   "cell_type": "markdown",
   "id": "6ee7d735",
   "metadata": {},
   "source": [
    "## exercise 4"
   ]
  },
  {
   "cell_type": "code",
   "execution_count": 20,
   "id": "efc82ca0",
   "metadata": {},
   "outputs": [
    {
     "name": "stdout",
     "output_type": "stream",
     "text": [
      "The result is 0.25\n"
     ]
    }
   ],
   "source": [
    "#Write a program that displays on the screen the result of the following arithmetic operation (3+2/2*5)^2\n",
    "result=(((3+2)/(2*5))**2)\n",
    "print('The result is '+ str(result))"
   ]
  },
  {
   "cell_type": "markdown",
   "id": "1b6e4a9e",
   "metadata": {},
   "source": [
    "## exercise 5"
   ]
  },
  {
   "cell_type": "code",
   "execution_count": null,
   "id": "7a6d577a",
   "metadata": {},
   "outputs": [],
   "source": [
    "#Write a program that asks the user for the number of hours worked and the cost per hour. \n",
    "#It should then display on the screen the corresponding pay.\n"
   ]
  }
 ],
 "metadata": {
  "kernelspec": {
   "display_name": "Python 3 (ipykernel)",
   "language": "python",
   "name": "python3"
  },
  "language_info": {
   "codemirror_mode": {
    "name": "ipython",
    "version": 3
   },
   "file_extension": ".py",
   "mimetype": "text/x-python",
   "name": "python",
   "nbconvert_exporter": "python",
   "pygments_lexer": "ipython3",
   "version": "3.9.7"
  }
 },
 "nbformat": 4,
 "nbformat_minor": 5
}
