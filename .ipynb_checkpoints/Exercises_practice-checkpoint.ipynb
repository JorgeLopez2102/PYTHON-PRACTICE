{
 "cells": [
  {
   "cell_type": "markdown",
   "id": "96696c18",
   "metadata": {},
   "source": [
    "# Simple data types"
   ]
  },
  {
   "cell_type": "markdown",
   "id": "722f14f0",
   "metadata": {},
   "source": [
    "## exercise 1 "
   ]
  },
  {
   "cell_type": "code",
   "execution_count": 22,
   "id": "4351ab11",
   "metadata": {},
   "outputs": [
    {
     "name": "stdout",
     "output_type": "stream",
     "text": [
      "Hello World!\n"
     ]
    }
   ],
   "source": [
    "#Write a program that displays the Hello World! string on the screen.\n",
    "print('Hello World!')"
   ]
  },
  {
   "cell_type": "markdown",
   "id": "4a656a1f",
   "metadata": {},
   "source": [
    "## exercise 2"
   ]
  },
  {
   "cell_type": "code",
   "execution_count": 23,
   "id": "d6d713c5",
   "metadata": {},
   "outputs": [
    {
     "name": "stdout",
     "output_type": "stream",
     "text": [
      "Hello World!\n"
     ]
    }
   ],
   "source": [
    "#Write a program that stores the string Hello World! in a variable and then displays the contents of the variable on the screen.\n",
    "Variable = 'Hello World!'\n",
    "print(Variable)"
   ]
  },
  {
   "cell_type": "markdown",
   "id": "8af4eb70",
   "metadata": {},
   "source": [
    "## exercise 3"
   ]
  },
  {
   "cell_type": "code",
   "execution_count": 24,
   "id": "d8efa09d",
   "metadata": {},
   "outputs": [
    {
     "name": "stdout",
     "output_type": "stream",
     "text": [
      "introduce name: Andres\n",
      "Hello Andres!\n"
     ]
    }
   ],
   "source": [
    "#Write a program that prompts for the user's name on the console and after the user enters it displays the string Hello <name>! \n",
    "#on the screen, where <name> is the name the user entered.\n",
    "Name = input('introduce name: ')\n",
    "print('Hello'+' '+ Name + '!')"
   ]
  },
  {
   "cell_type": "markdown",
   "id": "e331b2a7",
   "metadata": {},
   "source": [
    "## exercise 4"
   ]
  },
  {
   "cell_type": "code",
   "execution_count": 27,
   "id": "c9ed388a",
   "metadata": {},
   "outputs": [
    {
     "name": "stdout",
     "output_type": "stream",
     "text": [
      "The result is 0.25\n"
     ]
    }
   ],
   "source": [
    "#Write a program that displays on the screen the result of the following arithmetic operation (3+2/2*5)^2\n",
    "result = (((3+2)/(2*5))**2)\n",
    "print('The result is '+ str(result))"
   ]
  },
  {
   "cell_type": "markdown",
   "id": "bb949685",
   "metadata": {},
   "source": [
    "## exercise 5"
   ]
  },
  {
   "cell_type": "code",
   "execution_count": 30,
   "id": "500822be",
   "metadata": {},
   "outputs": [
    {
     "name": "stdout",
     "output_type": "stream",
     "text": [
      "Worked Hours: 48\n",
      "Cost per hour: 12\n",
      "Your corresponding pay is: 576.0\n"
     ]
    }
   ],
   "source": [
    "#Write a program that asks the user for the number of hours worked and the cost per hour. \n",
    "#It should then display on the screen the corresponding pay.\n",
    "Worked_Hours  = float(input('Worked Hours: '))\n",
    "Cost_Per_Hour = float(input('Cost per hour: '))\n",
    "Pay           = float(Worked_Hours*Cost_Per_Hour)\n",
    "print('Your corresponding pay is: '+ str(Pay))\n"
   ]
  },
  {
   "cell_type": "markdown",
   "id": "505f60bd",
   "metadata": {},
   "source": [
    "## exercise 6"
   ]
  },
  {
   "cell_type": "code",
   "execution_count": 41,
   "id": "aa263a6d",
   "metadata": {},
   "outputs": [
    {
     "name": "stdout",
     "output_type": "stream",
     "text": [
      "Choose a positive number: 5\n",
      "the sum of all integers from 1 to 5 is 15.0\n"
     ]
    }
   ],
   "source": [
    "#Write a program that reads a positive integer, n , \n",
    "#entered by the user and then displays on the screen the sum of all integers from 1 to n. \n",
    "#The sum of the first positive integers can be calculated as follows:n(n+1)/2\n",
    "N    = int(input('Choose a positive number: '))\n",
    "suma = N*(N+1)/2\n",
    "print('the sum of all integers from 1 to '+ str(N) +' is ' + str(suma))"
   ]
  },
  {
   "cell_type": "code",
   "execution_count": null,
   "id": "97ec2ab6",
   "metadata": {},
   "outputs": [],
   "source": []
  }
 ],
 "metadata": {
  "kernelspec": {
   "display_name": "Python 3 (ipykernel)",
   "language": "python",
   "name": "python3"
  },
  "language_info": {
   "codemirror_mode": {
    "name": "ipython",
    "version": 3
   },
   "file_extension": ".py",
   "mimetype": "text/x-python",
   "name": "python",
   "nbconvert_exporter": "python",
   "pygments_lexer": "ipython3",
   "version": "3.9.7"
  }
 },
 "nbformat": 4,
 "nbformat_minor": 5
}
