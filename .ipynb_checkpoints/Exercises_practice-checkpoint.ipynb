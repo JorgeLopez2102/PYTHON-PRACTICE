{
 "cells": [
  {
   "cell_type": "markdown",
   "id": "fccd0eec",
   "metadata": {},
   "source": [
    "# Simple data types"
   ]
  },
  {
   "cell_type": "markdown",
   "id": "22f31d5a",
   "metadata": {},
   "source": [
    "## exercise 1 "
   ]
  },
  {
   "cell_type": "code",
   "execution_count": 22,
   "id": "1f8812fd",
   "metadata": {},
   "outputs": [
    {
     "name": "stdout",
     "output_type": "stream",
     "text": [
      "Hello World!\n"
     ]
    }
   ],
   "source": [
    "#Write a program that displays the Hello World! string on the screen.\n",
    "print('Hello World!')"
   ]
  },
  {
   "cell_type": "markdown",
   "id": "678d2f6b",
   "metadata": {},
   "source": [
    "## exercise 2"
   ]
  },
  {
   "cell_type": "code",
   "execution_count": 23,
   "id": "37e50327",
   "metadata": {},
   "outputs": [
    {
     "name": "stdout",
     "output_type": "stream",
     "text": [
      "Hello World!\n"
     ]
    }
   ],
   "source": [
    "#Write a program that stores the string Hello World! in a variable and then displays the contents of the variable on the screen.\n",
    "Variable = 'Hello World!'\n",
    "print(Variable)"
   ]
  },
  {
   "cell_type": "markdown",
   "id": "66e7a5cd",
   "metadata": {},
   "source": [
    "## exercise 3"
   ]
  },
  {
   "cell_type": "code",
   "execution_count": 24,
   "id": "fec31a5b",
   "metadata": {},
   "outputs": [
    {
     "name": "stdout",
     "output_type": "stream",
     "text": [
      "introduce name: Andres\n",
      "Hello Andres!\n"
     ]
    }
   ],
   "source": [
    "#Write a program that prompts for the user's name on the console and after the user enters it displays the string Hello <name>! \n",
    "#on the screen, where <name> is the name the user entered.\n",
    "Name = input('introduce name: ')\n",
    "print('Hello'+' '+ Name + '!')"
   ]
  },
  {
   "cell_type": "markdown",
   "id": "7f09b0c4",
   "metadata": {},
   "source": [
    "## exercise 4"
   ]
  },
  {
   "cell_type": "code",
   "execution_count": 27,
   "id": "1f255f4b",
   "metadata": {},
   "outputs": [
    {
     "name": "stdout",
     "output_type": "stream",
     "text": [
      "The result is 0.25\n"
     ]
    }
   ],
   "source": [
    "#Write a program that displays on the screen the result of the following arithmetic operation (3+2/2*5)^2\n",
    "result = (((3+2)/(2*5))**2)\n",
    "print('The result is '+ str(result))"
   ]
  },
  {
   "cell_type": "markdown",
   "id": "9beda468",
   "metadata": {},
   "source": [
    "## exercise 5"
   ]
  },
  {
   "cell_type": "code",
   "execution_count": 30,
   "id": "d1fb2e12",
   "metadata": {},
   "outputs": [
    {
     "name": "stdout",
     "output_type": "stream",
     "text": [
      "Worked Hours: 48\n",
      "Cost per hour: 12\n",
      "Your corresponding pay is: 576.0\n"
     ]
    }
   ],
   "source": [
    "#Write a program that asks the user for the number of hours worked and the cost per hour. \n",
    "#It should then display on the screen the corresponding pay.\n",
    "Worked_Hours  = float(input('Worked Hours: '))\n",
    "Cost_Per_Hour = float(input('Cost per hour: '))\n",
    "Pay           = float(Worked_Hours*Cost_Per_Hour)\n",
    "print('Your corresponding pay is: '+ str(Pay))\n"
   ]
  },
  {
   "cell_type": "markdown",
   "id": "5426705f",
   "metadata": {},
   "source": [
    "## exercise 6"
   ]
  },
  {
   "cell_type": "code",
   "execution_count": 41,
   "id": "026e012f",
   "metadata": {},
   "outputs": [
    {
     "name": "stdout",
     "output_type": "stream",
     "text": [
      "Choose a positive number: 5\n",
      "the sum of all integers from 1 to 5 is 15.0\n"
     ]
    }
   ],
   "source": [
    "#Write a program that reads a positive integer, n , \n",
    "#entered by the user and then displays on the screen the sum of all integers from 1 to n. \n",
    "#The sum of the first positive integers can be calculated as follows:n(n+1)/2\n",
    "N    = int(input('Choose a positive number: '))\n",
    "suma = N*(N+1)/2\n",
    "print('the sum of all integers from 1 to '+ str(N) +' is ' + str(suma))"
   ]
  },
  {
   "cell_type": "markdown",
   "id": "df4612f8",
   "metadata": {},
   "source": [
    "## exercise 7 "
   ]
  },
  {
   "cell_type": "code",
   "execution_count": 57,
   "id": "a2d4d890",
   "metadata": {},
   "outputs": [
    {
     "name": "stdout",
     "output_type": "stream",
     "text": [
      "Introduce your Weight in (kg): 79\n",
      "Introduce your Height in (meters): 1.66\n",
      "Your IMC is: 28.67 Indicate Overweight\n"
     ]
    }
   ],
   "source": [
    "#Write a program that asks the user for his weight (in kg) and height (in meters), \n",
    "#calculates the body mass index and stores it in a variable, \n",
    "#and displays the sentence Your body mass index is <imc> where <imc> \n",
    "#is the calculated body mass index rounded to two decimal places.\n",
    "Weight = float(input('Introduce your Weight in (kg): '))\n",
    "Height = float(input('Introduce your Height in (meters): '))\n",
    "IMC = round(Weight/(Height)**2,2)\n",
    "if IMC <= 18.5:\n",
    "    print('Your IMC is: '+str(IMC)+' Indicate '+'Low weight')\n",
    "    \n",
    "elif IMC <= 24.9:\n",
    "     print('Your IMC is: '+str(IMC)+' Indicate '+'Normal')\n",
    "        \n",
    "elif IMC <= 29.9:\n",
    "     print('Your IMC is: '+str(IMC)+' Indicate '+'Overweight')\n",
    "        \n",
    "elif IMC >= 30.0:\n",
    "     print('Your IMC is: '+str(IMC)+' Indicate '+'Obesity')\n",
    "            "
   ]
  },
  {
   "cell_type": "markdown",
   "id": "199b99c3",
   "metadata": {},
   "source": [
    "## exercise 8 "
   ]
  },
  {
   "cell_type": "code",
   "execution_count": null,
   "id": "2380514c",
   "metadata": {},
   "outputs": [],
   "source": []
  }
 ],
 "metadata": {
  "kernelspec": {
   "display_name": "Python 3 (ipykernel)",
   "language": "python",
   "name": "python3"
  },
  "language_info": {
   "codemirror_mode": {
    "name": "ipython",
    "version": 3
   },
   "file_extension": ".py",
   "mimetype": "text/x-python",
   "name": "python",
   "nbconvert_exporter": "python",
   "pygments_lexer": "ipython3",
   "version": "3.9.7"
  }
 },
 "nbformat": 4,
 "nbformat_minor": 5
}
